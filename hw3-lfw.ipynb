{
 "cells": [
  {
   "cell_type": "markdown",
   "metadata": {
    "collapsed": false
   },
   "source": [
    "# Labeled Faces in the Wild\n",
    "\n",
    "### Environment Setup\n",
    "Please refer to the report `README.pdf` section  \n"
   ]
  },
  {
   "cell_type": "code",
   "execution_count": null,
   "metadata": {
    "collapsed": true
   },
   "outputs": [],
   "source": [
    "# Imports\n",
    "import numpy as np\n",
    "\n",
    "from keras import backend\n",
    "from keras.utils import np_utils\n",
    "from keras.preprocessing.image import ImageDataGenerator\n",
    "from keras.models import Sequential\n",
    "from keras.layers import Convolution2D, MaxPooling2D\n",
    "from keras.layers import Dense, Dropout, Activation, Flatten, Reshape\n",
    "\n",
    "from sklearn.cross_validation import train_test_split"
   ]
  },
  {
   "cell_type": "code",
   "execution_count": null,
   "metadata": {
    "collapsed": true
   },
   "outputs": [],
   "source": [
    "# Set image dimension ordering convention to follow theano\n",
    "backend.set_image_dim_ordering('th')"
   ]
  },
  {
   "cell_type": "code",
   "execution_count": null,
   "metadata": {
    "collapsed": false
   },
   "outputs": [],
   "source": [
    "def load_train_data():\n",
    "    image_data = np.load('X_train.npy')\n",
    "    image_data = image_data.reshape((image_data.shape[0], 50, 37))\n",
    "    image_data = image_data[:, np.newaxis, :, :]\n",
    "    image_labels = np.load('y_train.npy')\n",
    "    return image_data, image_labels\n",
    "\n",
    "def split_train_data(image_data, image_labels, train_size=0.9, random_state=20):\n",
    "    return train_test_split(image_data, image_labels, train_size=train_size, random_state = random_state)\n",
    "\n",
    "num_classes = 7 # Define the number of classes in the classification problem\n",
    "\n",
    "# Load the training data\n",
    "image_data, image_labels = load_train_data()\n",
    "\n",
    "# Split the training data into train and test data for evaluation of the model\n",
    "X_train, X_test, y_train, y_test = split_train_data(image_data, image_labels)\n",
    "\n",
    "X_train.astype('float32')\n",
    "X_test.astype('float32')\n",
    "X_train /= 255 # Normalize values to be in range of 0 to 1\n",
    "X_test /= 255 # Normalize values to be in range of 0 to 1\n",
    "\n",
    "# Map each label to an array of 7 with value 1 at the position denoting the class number, and the rest 0\n",
    "# e.g. label 0 will be represented as [1, 0, 0, 0, 0, 0, 0]\n",
    "y_train = np_utils.to_categorical(y_train, num_classes)\n",
    "y_test = np_utils.to_categorical(y_test, num_classes)"
   ]
  },
  {
   "cell_type": "code",
   "execution_count": null,
   "metadata": {
    "collapsed": true
   },
   "outputs": [],
   "source": [
    "# Preprocess image\n",
    "datagen = ImageDataGenerator(rotation_range=25, \n",
    "                             width_shift_range=0.2, \n",
    "                             height_shift_range=0.2, \n",
    "                             horizontal_flip=False,\n",
    "                             fill_mode='nearest')\n",
    "datagen.fit(X_train)"
   ]
  },
  {
   "cell_type": "code",
   "execution_count": null,
   "metadata": {
    "collapsed": false,
    "scrolled": true
   },
   "outputs": [],
   "source": [
    "def construct_convolutional_neural_net_model():\n",
    "    model = Sequential()\n",
    "    model.add(Convolution2D(32, 3, 3, input_shape=(1, 50, 37)))\n",
    "    model.add(Activation('relu'))\n",
    "    model.add(MaxPooling2D(pool_size=(2, 2)))\n",
    "\n",
    "    model.add(Convolution2D(32, 3, 3))\n",
    "    model.add(Activation('relu'))\n",
    "    model.add(MaxPooling2D(pool_size=(2, 2)))\n",
    "\n",
    "    model.add(Convolution2D(64, 3, 3))\n",
    "    model.add(Activation('relu'))\n",
    "    model.add(MaxPooling2D(pool_size=(2, 2)))\n",
    "\n",
    "    model.add(Flatten())\n",
    "    model.add(Dense(512))\n",
    "    model.add(Activation('relu'))\n",
    "    model.add(Dropout(0.2))\n",
    "    model.add(Dense(512))\n",
    "    model.add(Activation('relu'))\n",
    "    model.add(Dropout(0.2))\n",
    "    model.add(Dense(7))\n",
    "    model.add(Activation('softmax'))\n",
    "    \n",
    "    model.compile(loss='categorical_crossentropy', optimizer=\"adam\", metrics=['accuracy'])\n",
    "    \n",
    "    return model\n",
    "\n",
    "# Construct neural net model\n",
    "model = construct_convolutional_neural_net_model()\n",
    "model.summary()"
   ]
  },
  {
   "cell_type": "code",
   "execution_count": null,
   "metadata": {
    "collapsed": false
   },
   "outputs": [],
   "source": [
    "def train_model(model, datagen, X_train, y_train, batch_size, nb_epoch):\n",
    "    model.fit_generator(datagen.flow(X_train, y_train, batch_size=batch_size), \n",
    "                        samples_per_epoch=len(X_train), \n",
    "                        nb_epoch=nb_epoch, \n",
    "                        verbose=1)\n",
    "    \n",
    "train_model(model, datagen, X_train, y_train, 64, 300)"
   ]
  },
  {
   "cell_type": "code",
   "execution_count": null,
   "metadata": {
    "collapsed": false
   },
   "outputs": [],
   "source": [
    "def get_label(array):\n",
    "    for i in range(len(array)):\n",
    "        if array[i] == 1:\n",
    "            return i\n",
    "    \n",
    "def evaluate_model(model, X_test, y_test):\n",
    "    loss, accuracy = model.evaluate(X_test, y_test, verbose=0)\n",
    "    print('Loss: {0}'.format(loss))\n",
    "    print('Accuracy: {0}'.format(accuracy))\n",
    "    total = [0]*7\n",
    "    correct = [0]*7\n",
    "    \n",
    "    prediction = model.predict(X_test)\n",
    "    for i,probs in enumerate(prediction):\n",
    "        correct_class = get_label(y_test[i])\n",
    "        total[correct_class] += 1\n",
    "        pred_class = np.argmax(probs)\n",
    "        if correct_class == pred_class:\n",
    "            correct[correct_class] += 1\n",
    "        print('%d %d'%(correct_class, pred_class))\n",
    "    print('Correct: {0}'.format(correct))\n",
    "    print('Total: {0}'.format(total))\n",
    "    \n",
    "evaluate_model(model, X_test, y_test)"
   ]
  },
  {
   "cell_type": "code",
   "execution_count": null,
   "metadata": {
    "collapsed": false
   },
   "outputs": [],
   "source": [
    "def load_test_data(filename):\n",
    "    x_test = np.load(filename)\n",
    "    x_test = x_test.reshape((x_test.shape[0], 50, 37))\n",
    "    x_test = x_test[:, np.newaxis, :, :]\n",
    "    return x_test\n",
    "\n",
    "def output_to_csv(filename, prediction):\n",
    "    fo = open(filename, 'w')\n",
    "    fo.write(\"ImageId,PredictedClass\\n\")\n",
    "\n",
    "    for i in range(len(prediction)):\n",
    "        pred_class = np.argmax(prediction[i])\n",
    "        fo.write(str(i) + \",\" + str(pred_class) + \"\\n\")\n",
    "\n",
    "    fo.close()\n",
    "\n",
    "# Load the real test data\n",
    "x_test = load_test_data('X_test.npy')\n",
    "x_test /= 255 # Normalize values to be in range of 0 to 1\n",
    "\n",
    "# Predict the real test data with the trained model\n",
    "prediction = model.predict(x_test)\n",
    "\n",
    "# Print the result of the prediction to csv file\n",
    "output_to_csv('result3.csv', prediction)"
   ]
  },
  {
   "cell_type": "code",
   "execution_count": null,
   "metadata": {
    "collapsed": true
   },
   "outputs": [],
   "source": []
  }
 ],
 "metadata": {
  "anaconda-cloud": {},
  "kernelspec": {
   "display_name": "Python [Root]",
   "language": "python",
   "name": "Python [Root]"
  },
  "language_info": {
   "codemirror_mode": {
    "name": "ipython",
    "version": 3
   },
   "file_extension": ".py",
   "mimetype": "text/x-python",
   "name": "python",
   "nbconvert_exporter": "python",
   "pygments_lexer": "ipython3",
   "version": "3.5.2"
  }
 },
 "nbformat": 4,
 "nbformat_minor": 0
}
